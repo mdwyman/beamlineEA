{
 "cells": [
  {
   "cell_type": "code",
   "execution_count": 1,
   "metadata": {
    "ExecuteTime": {
     "end_time": "2020-01-28T15:03:26.874421Z",
     "start_time": "2020-01-28T15:03:26.599635Z"
    }
   },
   "outputs": [],
   "source": [
    "import numpy as np\n",
    "%matplotlib inline\n",
    "import matplotlib.pyplot as plt\n",
    "import epics as PV\n",
    "from logProgress import log_progress\n",
    "import time\n",
    "import math\n",
    "from IPython.display import display, clear_output"
   ]
  },
  {
   "cell_type": "code",
   "execution_count": 2,
   "metadata": {
    "ExecuteTime": {
     "end_time": "2020-01-28T15:03:30.130600Z",
     "start_time": "2020-01-28T15:03:30.050638Z"
    }
   },
   "outputs": [],
   "source": [
    "m1 = PV.PV('wym:m1')"
   ]
  },
  {
   "cell_type": "code",
   "execution_count": 3,
   "metadata": {
    "ExecuteTime": {
     "end_time": "2020-01-27T18:11:51.910824Z",
     "start_time": "2020-01-27T18:11:51.884874Z"
    }
   },
   "outputs": [
    {
     "name": "stdout",
     "output_type": "stream",
     "text": [
      "Done Moving\n"
     ]
    }
   ],
   "source": [
    "m1.put(-10)\n",
    "while not m1.put_complete:\n",
    "    print('Moving \\r', end = '')\n",
    "print('Done Moving')"
   ]
  },
  {
   "cell_type": "code",
   "execution_count": 4,
   "metadata": {
    "ExecuteTime": {
     "end_time": "2020-01-27T18:11:56.116709Z",
     "start_time": "2020-01-27T18:11:56.103757Z"
    }
   },
   "outputs": [
    {
     "data": {
      "text/plain": [
       "True"
      ]
     },
     "execution_count": 4,
     "metadata": {},
     "output_type": "execute_result"
    }
   ],
   "source": [
    "m1.put_complete"
   ]
  },
  {
   "cell_type": "code",
   "execution_count": 3,
   "metadata": {
    "ExecuteTime": {
     "end_time": "2020-01-28T15:03:35.397267Z",
     "start_time": "2020-01-28T15:03:35.376804Z"
    }
   },
   "outputs": [],
   "source": [
    "class gaMotor:\n",
    "    def __init__(self, pvName, scanStart, scanStop, scanStep):\n",
    "        self.pvName = pvName\n",
    "        self.scanStart = scanStart\n",
    "        self.scanStop = scanStop\n",
    "        self.scanStep = scanStep"
   ]
  },
  {
   "cell_type": "markdown",
   "metadata": {},
   "source": [
    "### Define motors"
   ]
  },
  {
   "cell_type": "code",
   "execution_count": 4,
   "metadata": {
    "ExecuteTime": {
     "end_time": "2020-01-28T15:03:37.357252Z",
     "start_time": "2020-01-28T15:03:37.341481Z"
    }
   },
   "outputs": [],
   "source": [
    "motors = [gaMotor('wym:m1', -1.0, 1.0, 0.01),\n",
    "         gaMotor('wym:m2', 0.0, 1.0, 0.01),\n",
    "         gaMotor('wym:m3', -2.0, 0.0, 0.01),\n",
    "         gaMotor('wym:m4', -4.0, 5.0, 0.01),\n",
    "         gaMotor('wym:m5', -2.0, 2.0, 0.01),\n",
    "         gaMotor('wym:m6', -3.0, 3.0, 0.01),\n",
    "         gaMotor('wym:m7', 0.0, 2.0, 0.01)]"
   ]
  },
  {
   "cell_type": "code",
   "execution_count": null,
   "metadata": {},
   "outputs": [],
   "source": []
  },
  {
   "cell_type": "code",
   "execution_count": 5,
   "metadata": {
    "ExecuteTime": {
     "end_time": "2020-01-28T15:03:42.610039Z",
     "start_time": "2020-01-28T15:03:42.596167Z"
    }
   },
   "outputs": [],
   "source": [
    "motors1 = [['wym:m1', -1.0, 1.0, 0.01],\n",
    "         ['wym:m2', 0.0, 1.0, 0.01],\n",
    "         ['wym:m3', -2.0, 0.0, 0.01],\n",
    "         ['wym:m4', -4.0, 5.0, 0.01],\n",
    "         ['wym:m5', -2.0, 2.0, 0.01],\n",
    "         ['wym:m6', -3.0, 3.0, 0.01],\n",
    "         ['wym:m7', 0.0, 2.0, 0.01]]"
   ]
  },
  {
   "cell_type": "code",
   "execution_count": 6,
   "metadata": {
    "ExecuteTime": {
     "end_time": "2020-01-28T15:03:44.016562Z",
     "start_time": "2020-01-28T15:03:44.000783Z"
    }
   },
   "outputs": [
    {
     "name": "stdout",
     "output_type": "stream",
     "text": [
      "['wym:m1', -1.0, 1.0, 0.01]\n",
      "['wym:m2', 0.0, 1.0, 0.01]\n",
      "['wym:m3', -2.0, 0.0, 0.01]\n",
      "['wym:m4', -4.0, 5.0, 0.01]\n",
      "['wym:m5', -2.0, 2.0, 0.01]\n",
      "['wym:m6', -3.0, 3.0, 0.01]\n",
      "['wym:m7', 0.0, 2.0, 0.01]\n"
     ]
    }
   ],
   "source": [
    "for i in motors1:\n",
    "    print(i)"
   ]
  },
  {
   "cell_type": "code",
   "execution_count": 9,
   "metadata": {
    "ExecuteTime": {
     "end_time": "2020-01-27T18:12:23.886957Z",
     "start_time": "2020-01-27T18:12:23.847799Z"
    }
   },
   "outputs": [
    {
     "data": {
      "text/plain": [
       "1"
      ]
     },
     "execution_count": 9,
     "metadata": {},
     "output_type": "execute_result"
    }
   ],
   "source": [
    "PV.caput(motors[0].pvName+'.VAL', 2.0)"
   ]
  },
  {
   "cell_type": "code",
   "execution_count": 7,
   "metadata": {
    "ExecuteTime": {
     "end_time": "2020-01-28T15:03:46.524727Z",
     "start_time": "2020-01-28T15:03:46.510044Z"
    }
   },
   "outputs": [],
   "source": [
    "def moveMotors(positions, gaMotor):\n",
    "    for pos, motor in zip(positions, gaMotor):\n",
    "        PV.caput(motor.pvName, pos)    #moves done ~simultaneously, though started sequentially"
   ]
  },
  {
   "cell_type": "code",
   "execution_count": 8,
   "metadata": {
    "ExecuteTime": {
     "end_time": "2020-01-28T15:03:47.842000Z",
     "start_time": "2020-01-28T15:03:47.825123Z"
    }
   },
   "outputs": [],
   "source": [
    "def getMotors(gaMotor):\n",
    "    positions = []\n",
    "    for motor in gaMotor:\n",
    "        pos = PV.caget(motor.pvName+'.RBV')\n",
    "        positions.append(pos)\n",
    "    \n",
    "    return np.asarray(positions)"
   ]
  },
  {
   "cell_type": "markdown",
   "metadata": {},
   "source": [
    "### Define genes\n",
    "Based on motors -- each entry in gene list contains an array of all possible values for that gene/motor"
   ]
  },
  {
   "cell_type": "code",
   "execution_count": 9,
   "metadata": {
    "ExecuteTime": {
     "end_time": "2020-01-28T15:03:54.360731Z",
     "start_time": "2020-01-28T15:03:54.349966Z"
    }
   },
   "outputs": [],
   "source": [
    "genes = [np.arange(motor.scanStart,motor.scanStop+motor.scanStep,motor.scanStep) for motor in motors]"
   ]
  },
  {
   "cell_type": "markdown",
   "metadata": {},
   "source": [
    "#### Test motor move"
   ]
  },
  {
   "cell_type": "code",
   "execution_count": 10,
   "metadata": {
    "ExecuteTime": {
     "end_time": "2020-01-28T15:03:57.635501Z",
     "start_time": "2020-01-28T15:03:57.485263Z"
    }
   },
   "outputs": [],
   "source": [
    "moveMotors(np.asarray([np.random.choice(gene) for gene in genes]), motors)"
   ]
  },
  {
   "cell_type": "markdown",
   "metadata": {},
   "source": [
    "#### Set speed of all motors"
   ]
  },
  {
   "cell_type": "code",
   "execution_count": 11,
   "metadata": {
    "ExecuteTime": {
     "end_time": "2020-01-28T15:04:34.207941Z",
     "start_time": "2020-01-28T15:04:34.192213Z"
    }
   },
   "outputs": [],
   "source": [
    "def setMotorV(gaMotors, speed):\n",
    "    speedPVs = ['.S', '.SBAK', '.SBAS']\n",
    "    for motor in gaMotors:\n",
    "        [PV.caput(motor.pvName+sPV,speed) for sPV in speedPVs]"
   ]
  },
  {
   "cell_type": "code",
   "execution_count": 12,
   "metadata": {
    "ExecuteTime": {
     "end_time": "2020-01-28T15:04:38.963321Z",
     "start_time": "2020-01-28T15:04:38.398576Z"
    }
   },
   "outputs": [],
   "source": [
    "setMotorV(motors, speed = 0.1)"
   ]
  },
  {
   "cell_type": "markdown",
   "metadata": {},
   "source": [
    "#### Check if motors are still moving"
   ]
  },
  {
   "cell_type": "code",
   "execution_count": 13,
   "metadata": {
    "ExecuteTime": {
     "end_time": "2020-01-28T15:04:43.781815Z",
     "start_time": "2020-01-28T15:04:43.760380Z"
    }
   },
   "outputs": [],
   "source": [
    "def stillMoving(gaMotors):\n",
    "    # DMOV = 0 while moving\n",
    "    # DMOV = 1 when move complete\n",
    "    status = [bool(PV.caget(motor.pvName+'.DMOV')) for motor in gaMotors]\n",
    "    \n",
    "    moving = not all(status)\n",
    "    \n",
    "    return moving\n",
    "    "
   ]
  },
  {
   "cell_type": "code",
   "execution_count": 14,
   "metadata": {
    "ExecuteTime": {
     "end_time": "2020-01-28T15:04:44.616342Z",
     "start_time": "2020-01-28T15:04:44.415748Z"
    }
   },
   "outputs": [
    {
     "data": {
      "text/plain": [
       "False"
      ]
     },
     "execution_count": 14,
     "metadata": {},
     "output_type": "execute_result"
    }
   ],
   "source": [
    "stillMoving(motors)"
   ]
  },
  {
   "cell_type": "code",
   "execution_count": 15,
   "metadata": {
    "ExecuteTime": {
     "end_time": "2020-01-28T15:05:09.267387Z",
     "start_time": "2020-01-28T15:04:51.446273Z"
    }
   },
   "outputs": [
    {
     "name": "stdout",
     "output_type": "stream",
     "text": [
      "Done Moving  \n"
     ]
    }
   ],
   "source": [
    "moveMotors(np.asarray([np.random.choice(gene) for gene in genes]), motors)\n",
    "while stillMoving(motors):\n",
    "    print(\"Still Moving \\r\", end = '')\n",
    "print(\"Done Moving \")"
   ]
  },
  {
   "cell_type": "markdown",
   "metadata": {},
   "source": [
    "### Initialize population"
   ]
  },
  {
   "cell_type": "code",
   "execution_count": 16,
   "metadata": {
    "ExecuteTime": {
     "end_time": "2020-01-28T15:05:20.573284Z",
     "start_time": "2020-01-28T15:05:20.558311Z"
    }
   },
   "outputs": [],
   "source": [
    "def init_pop(nPopulation, genes, seed = 42):\n",
    "    population = []\n",
    "    np.random.seed(seed)\n",
    "    for i in range(nPopulation):\n",
    "        population.append(np.asarray([np.random.choice(gene) for gene in genes]))\n",
    "        \n",
    "    return population"
   ]
  },
  {
   "cell_type": "markdown",
   "metadata": {},
   "source": [
    "### Fitness function"
   ]
  },
  {
   "cell_type": "code",
   "execution_count": 17,
   "metadata": {
    "ExecuteTime": {
     "end_time": "2020-01-28T15:05:32.542064Z",
     "start_time": "2020-01-28T15:05:32.500256Z"
    }
   },
   "outputs": [],
   "source": [
    "# Creating empty dataframe:\n",
    "#\n",
    "# df = pd.DataFrame(columns=['A','B','C','D','E','F','G'])\n",
    "\n",
    "# Adding to data frame row by row:\n",
    "#\n",
    "# df.loc[0 if pd.isnull(df.index.max()) else df.index.max() + 1]=...\n",
    "\n",
    "diagnosticPV = 'wym:userCalc3.VAL'\n",
    "\n",
    "def get_fitness(pop, motors, diagPV = diagnosticPV, OM = False, minFit = 0):\n",
    "    fitness = []\n",
    "    act_popN = 0\n",
    "    oldFit = -1\n",
    "    for j, p in enumerate(pop):\n",
    "        if OM:\n",
    "            tempFit = minFit\n",
    "            rePop = False\n",
    "        moveMotors(p, motors)\n",
    "        while stillMoving(motors):          \n",
    "            if OM:\n",
    "                currP = getMotors(motors)\n",
    "                currFit = PV.caget(diagnosticPV)\n",
    "                if oldFit != tempFit:\n",
    "                    act_popN += 1\n",
    "                    oldFit = tempFit\n",
    "                if currFit > tempFit:\n",
    "                    tempP = currP\n",
    "                    tempFit = currFit\n",
    "                    rePop = True\n",
    "                    \n",
    "        finalFit = PV.caget(diagnosticPV)\n",
    "        if OM and rePop:\n",
    "            if tempFit > finalFit:\n",
    "                finalFit = tempFit\n",
    "                pop[j] = tempP\n",
    "        fitness.append(finalFit)\n",
    "\n",
    "    return pop, fitness, act_popN"
   ]
  },
  {
   "cell_type": "code",
   "execution_count": 18,
   "metadata": {
    "ExecuteTime": {
     "end_time": "2020-01-28T15:08:20.667142Z",
     "start_time": "2020-01-28T15:05:42.130109Z"
    },
    "scrolled": true
   },
   "outputs": [
    {
     "name": "stdout",
     "output_type": "stream",
     "text": [
      "Initial Population:\n",
      "[ 0.02  0.51 -1.08 -1.3  -0.94 -2.29  1.88]\n",
      "[-0.8   0.82 -1.26  0.58 -1.13  0.72  0.99]\n",
      "[ 0.03  0.23 -0.7   2.61  1.08  0.43  1.57]\n",
      "[-0.63  0.01 -0.09 -1.24 -0.4   1.59  0.57]\n",
      "[-0.79  0.88 -1.52  0.74 -1.42  2.1   1.69]\n",
      "[ 0.87  0.79 -1.86 -2.11 -0.26  2.62  1.07]\n",
      "[-0.46  0.63 -0.7   0.84  1.06 -2.8   0.72]\n",
      "[ 0.66  0.17 -0.69  2.    1.15 -2.87  0.08]\n",
      "[-0.11  0.52 -0.71 -0.61 -1.09  0.66  1.87]\n",
      "[ 0.98  0.43 -1.93 -3.66  0.05 -2.2   1.63]\n",
      "test Fitness\n",
      "[2.5191598799573273e-05, 0.018227934481039116, 0.0014242641280657405, 0.00044310668189151853, 6.402096180673692e-05, 1.895524632152343e-07, 5.5385097422044606e-05, 2.4109251607445486e-06, 0.017983510936641085, 2.2687658901616722e-11]\n",
      "******************************************************\n",
      "New Population:\n",
      "[ 0.02  0.51 -1.08 -1.3  -0.94 -2.29  1.88]\n",
      "[-0.8   0.82 -1.26  0.58 -1.13  0.03  0.99]\n",
      "[-0.08  0.23 -0.7   1.3  -0.41  0.43  1.57]\n",
      "[-0.63  0.01 -0.09  0.45 -0.4   1.59  0.57]\n",
      "[-0.63  0.01 -0.09 -1.24 -0.4   1.59  0.57]\n",
      "[ 0.25  0.79 -1.86 -0.3  -0.38  2.62  1.07]\n",
      "[-0.46  0.63 -0.7   0.53  1.06 -0.02  0.72]\n",
      "[-0.46  0.63 -0.7   0.84  1.06 -2.8   0.72]\n",
      "[-0.11  0.52 -0.71  0.36 -0.49 -1.23  1.72]\n",
      "[ 0.17  0.43 -0.99 -0.89 -0.81  0.38  1.63]\n",
      "New Fitness:\n",
      "[1.8236235165916403e-05, 0.02855280782729001, 0.14417895614140122, 0.007706431800685975, 0.0003864531165043495, 7.213292214998389e-05, 0.1132112201717422, 5.5385097422044606e-05, 0.06348827727300047, 0.028435980973902465]\n"
     ]
    }
   ],
   "source": [
    "testPop = init_pop(10, genes)\n",
    "print('Initial Population:')\n",
    "for p in testPop:\n",
    "    print(p)\n",
    "_, testFitness, _ = get_fitness(testPop, motors, OM = False)\n",
    "print('test Fitness')\n",
    "print(testFitness)\n",
    "print('******************************************************')\n",
    "newPop, newFitness, _ = get_fitness(testPop, motors, OM = True)\n",
    "print('New Population:')\n",
    "for p in newPop:\n",
    "    print(p)\n",
    "print('New Fitness:')\n",
    "print(newFitness)\n"
   ]
  },
  {
   "cell_type": "code",
   "execution_count": 25,
   "metadata": {
    "ExecuteTime": {
     "end_time": "2020-01-24T17:34:33.913324Z",
     "start_time": "2020-01-24T17:34:33.909694Z"
    }
   },
   "outputs": [],
   "source": [
    "#def get_fitness(pop, genes = genes):\n",
    "#    fitness = []\n",
    "#    peaks = np.asarray([np.mean(g) for g in genes])\n",
    "#    for chromosome in pop:\n",
    "#        fitness.append(np.prod(np.exp(-1.*(chromosome-peaks)**2)))\n",
    "#    \n",
    "#    return fitness\n",
    "                       "
   ]
  },
  {
   "cell_type": "markdown",
   "metadata": {},
   "source": [
    "### Ranking by fitness"
   ]
  },
  {
   "cell_type": "code",
   "execution_count": 19,
   "metadata": {
    "ExecuteTime": {
     "end_time": "2020-01-28T15:08:43.633114Z",
     "start_time": "2020-01-28T15:08:43.628848Z"
    }
   },
   "outputs": [],
   "source": [
    "def rank_pop(fitness):\n",
    "    return np.argsort(fitness)"
   ]
  },
  {
   "cell_type": "markdown",
   "metadata": {},
   "source": [
    "### Select Mating Pool"
   ]
  },
  {
   "cell_type": "code",
   "execution_count": 20,
   "metadata": {
    "ExecuteTime": {
     "end_time": "2020-01-28T15:08:45.335787Z",
     "start_time": "2020-01-28T15:08:45.324054Z"
    }
   },
   "outputs": [],
   "source": [
    "def mating_pool_probs(fitness):\n",
    "    return [fit/sum(fitness) for fit in fitness]"
   ]
  },
  {
   "cell_type": "code",
   "execution_count": 21,
   "metadata": {
    "ExecuteTime": {
     "end_time": "2020-01-28T15:08:46.314731Z",
     "start_time": "2020-01-28T15:08:46.289983Z"
    }
   },
   "outputs": [],
   "source": [
    "def get_mating_pool(population, rankings, probs, nElites, nPopulation):\n",
    "    rankedProbs = [probs[i] for i in rankings]\n",
    "    \n",
    "    #include elites\n",
    "    #remainder based on probabilities from fitness_i/sum(fitness_i)\n",
    "    breedingPop = []\n",
    "    breedingPop[0:nElites] = rankings[::-1][0:nElites]\n",
    "    breedingPop[nElites:nPopulation-nElites] = np.random.choice(rankings, size = nPopulation-nElites, p = rankedProbs)\n",
    "    \n",
    "    return breedingPop"
   ]
  },
  {
   "cell_type": "markdown",
   "metadata": {},
   "source": [
    "### Breed (crossover)"
   ]
  },
  {
   "cell_type": "code",
   "execution_count": 22,
   "metadata": {
    "ExecuteTime": {
     "end_time": "2020-01-28T15:08:48.057542Z",
     "start_time": "2020-01-28T15:08:48.011185Z"
    }
   },
   "outputs": [],
   "source": [
    "def get_offspring(nGenes, nPopulation, population, breedingPop, Pc):\n",
    "    #iterate through pairs i, i+1 (N/2 times) and if P < Pc swap genes 1 through randomly choose of 2,..,N-1)\n",
    "    offspring = []\n",
    "    for i in range(int(nPopulation/2)):\n",
    "        parent1 = np.copy(population[breedingPop[2*i]])\n",
    "        parent2 = np.copy(population[breedingPop[2*i+1]])\n",
    "        \n",
    "        child1 = np.copy(parent1)\n",
    "        child2 = np.copy(parent2)\n",
    "        if np.random.random() < Pc:\n",
    "            crossover = np.random.choice(nGenes-1) + 1\n",
    "            child1[crossover:]=parent2[crossover:]\n",
    "            child2[crossover:]=parent1[crossover:]\n",
    "        offspring.append(child1)\n",
    "        offspring.append(child2)\n",
    "    return offspring"
   ]
  },
  {
   "cell_type": "markdown",
   "metadata": {},
   "source": [
    "### Mutate"
   ]
  },
  {
   "cell_type": "code",
   "execution_count": 23,
   "metadata": {
    "ExecuteTime": {
     "end_time": "2020-01-28T15:08:49.697701Z",
     "start_time": "2020-01-28T15:08:49.674823Z"
    }
   },
   "outputs": [],
   "source": [
    "def mutate_pop(pop, Pm, genes):\n",
    "    #iterate through all genes on all chromosomes, if P < Pm pick randomly from gene's interval\n",
    "    mutatedOffspring = np.copy(pop)\n",
    "    for i, ind in enumerate(pop):\n",
    "        for j, gene in enumerate(ind):\n",
    "            if np.random.random() < Pm:\n",
    "                mutatedOffspring[i][j] = np.random.choice(genes[j])\n",
    "            \n",
    "    \n",
    "    return mutatedOffspring"
   ]
  },
  {
   "cell_type": "markdown",
   "metadata": {},
   "source": [
    "### Put together"
   ]
  },
  {
   "cell_type": "code",
   "execution_count": 24,
   "metadata": {
    "ExecuteTime": {
     "end_time": "2020-01-28T15:08:52.617818Z",
     "start_time": "2020-01-28T15:08:52.382277Z"
    }
   },
   "outputs": [],
   "source": [
    "def gaScan(motors, nPopulation = 10, Pc = 0.8, Pm = 0.05, nGenerations = 100, nElite = 5\n",
    "           , OM = True, critVal = 1.0, seed = 42):\n",
    "    print('Observer Mode: {}'.format(OM))\n",
    "    startTime = time.time()\n",
    "    genes = [np.arange(motor.scanStart,motor.scanStop+motor.scanStep,motor.scanStep) for motor in motors]\n",
    "    nGenes = len(genes)\n",
    "    pop = init_pop(nPopulation, genes, seed)\n",
    "    peakFit = []\n",
    "    aveFit = []\n",
    "    \n",
    "    fig = plt.figure(figsize = (8,5))\n",
    "    ax = fig.add_subplot(1, 1, 1) \n",
    "    #ax = fig.add_subplot(2, 1, 1) \n",
    "    #bx = fig.add_subplot(2, 1, 2)\n",
    "    \n",
    "    sampledN = 0\n",
    "    \n",
    "    #for i in log_progress(range(nGenerations), name = \"Generations\"):\n",
    "    for i in range(nGenerations):\n",
    "        pop, popFitness, popN = get_fitness(pop, motors, OM = (OM and (i > 0)))\n",
    "        peakFit.append(max(popFitness))\n",
    "        aveFit.append(np.mean(popFitness))\n",
    "        \n",
    "        sampledN += popN\n",
    "        \n",
    "        if peakFit[-1] < critVal:\n",
    "            print('Current Peak Fitness: {}; Goal Value: {} \\r'.format(peakFit[-1], critVal), end = '')\n",
    "            rankings = rank_pop(popFitness) # list of indexes\n",
    "            probs = mating_pool_probs(popFitness)\n",
    "        \n",
    "            breedingPop = get_mating_pool(pop, rankings, probs, nElite, nPopulation)\n",
    "            offspring = get_offspring(nGenes, nPopulation, pop, breedingPop, Pc)\n",
    "            pop = mutate_pop(offspring, Pm, genes)\n",
    "        else:\n",
    "            print('Final Peak Fitness: {}'.format(peakFit[-1]))\n",
    "            print('Minimum fitness criteria met')\n",
    "            moveMotors(pop[np.argmax(popFitness)], motors)\n",
    "    \n",
    "        \n",
    "        ax.cla()\n",
    "        \n",
    "        line1, = ax.plot(peakFit, color = 'r', label = 'Peak Fitness')\n",
    "        line2, = ax.plot(aveFit, color = 'b', label = 'Ave Fitness')\n",
    "        ax.legend(loc='lower right')\n",
    "        ax.set_title('Population = {}, Elites = {}, Pc = {}, Pm = {}, OM = {}'.format(nPopulation, \n",
    "                                                                                      nElites, Pc, Pm, OM))\n",
    "        ax.set_xlabel('Generation')\n",
    "        ax.set_ylabel('Fitness')\n",
    "        ax.set_ylim([0,1])\n",
    "        \n",
    "        display(fig)\n",
    "        clear_output(wait = True)\n",
    "    \n",
    "        if peakFit[-1] >= critVal:\n",
    "            break\n",
    "            \n",
    "    print(' ')\n",
    "#    pop, finalFitness = get_fitness(pop, motors, OM = False)\n",
    "#    peakFit.append(max(finalFitness))\n",
    "#    aveFit.append(np.mean(finalFitness))\n",
    "\n",
    "#    ax.cla()\n",
    "        \n",
    "#    line1, = ax.plot(peakFit, color = 'r', label = 'Peak Fitness')\n",
    "#    line2, = ax.plot(aveFit, color = 'b', label = 'Ave Fitness')\n",
    "#    ax.legend(loc='lower right')\n",
    "#    ax.set_title('Population = {}, Elites = {}, Pc = {}, Pm = {}, OM = {}'.format(nPopulation, \n",
    "#                                                                                     nElites, Pc, Pm, OM))\n",
    "#    ax.set_xlabel('Generation')\n",
    "#    ax.set_ylabel('Fitness')\n",
    "#    ax.set_ylim([0,1.0])\n",
    "    \n",
    "#    display(fig)\n",
    "#    clear_output(wait = True)\n",
    "    \n",
    "    endTime = time.time()\n",
    "    print('Total processing time {} s'.format(math.floor(endTime-startTime)))\n",
    "    \n",
    "#    fig, ax = plt.subplots()\n",
    "#    line1, = ax.plot(peakFit, color = 'r', label = 'Peak Fitness')\n",
    "#    line2, = ax.plot(aveFit, color = 'b', label = 'Ave Fitness')\n",
    "#    ax.legend(loc='lower right')\n",
    "#    ax.set_title('Population = {}, Elites = {}, Pc = {}, Pm = {}, OM = {}'.format(nPopulation, nElites, \n",
    "#                                                                                  Pc, Pm, OM))\n",
    "#    ax.set_xlabel('Generation')\n",
    "#    ax.set_ylabel('Fitness')\n",
    "#    plt.show\n",
    "    \n",
    "    return aveFit, peakFit, sampledN\n",
    "          \n",
    "    \n",
    "    "
   ]
  },
  {
   "cell_type": "code",
   "execution_count": 25,
   "metadata": {
    "ExecuteTime": {
     "end_time": "2020-01-28T15:08:54.411535Z",
     "start_time": "2020-01-28T15:08:54.396028Z"
    }
   },
   "outputs": [],
   "source": [
    "init_pos = [-1, 0, -2, -4, -2, -3, 0]\n",
    "seed = 2"
   ]
  },
  {
   "cell_type": "code",
   "execution_count": 26,
   "metadata": {
    "ExecuteTime": {
     "end_time": "2020-01-28T15:08:55.421339Z",
     "start_time": "2020-01-28T15:08:55.403332Z"
    }
   },
   "outputs": [],
   "source": [
    "moveMotors(init_pos, motors)"
   ]
  },
  {
   "cell_type": "code",
   "execution_count": 32,
   "metadata": {
    "ExecuteTime": {
     "end_time": "2020-01-28T16:14:59.635566Z",
     "start_time": "2020-01-28T16:09:13.353383Z"
    }
   },
   "outputs": [
    {
     "name": "stdout",
     "output_type": "stream",
     "text": [
      " \n",
      "Total processing time 346 s\n"
     ]
    },
    {
     "data": {
      "image/png": "[encoded data removed]",
      "text/plain": [
       "<Figure size 576x360 with 1 Axes>"
      ]
     },
     "metadata": {},
     "output_type": "display_data"
    }
   ],
   "source": [
    "moveMotors(init_pos, motors)\n",
    "\n",
    "nPop = 10\n",
    "Pc = 0.8\n",
    "Pm = 0.05\n",
    "nElites = 2\n",
    "nGen = 100\n",
    "setMotorV(motors, speed = 2.0)\n",
    "\n",
    "aveFit, peakFit, sampledN = gaScan(motors, nPopulation = nPop, Pc = Pc, Pm = Pm, nGenerations = nGen\n",
    "                                   , nElite = nElites, OM = False, critVal = 0.90, seed = seed)\n",
    "\n"
   ]
  },
  {
   "cell_type": "code",
   "execution_count": 28,
   "metadata": {
    "ExecuteTime": {
     "end_time": "2020-01-28T15:18:30.117460Z",
     "start_time": "2020-01-28T15:18:30.105163Z"
    }
   },
   "outputs": [
    {
     "data": {
      "text/plain": [
       "0.9216405411914118"
      ]
     },
     "execution_count": 28,
     "metadata": {},
     "output_type": "execute_result"
    }
   ],
   "source": [
    "peakFit[-1]"
   ]
  },
  {
   "cell_type": "markdown",
   "metadata": {},
   "source": [
    "### OMEA - Oberver Mode Evolutionary Algorithm\n",
    "\n",
    "In practice will have nPopulation = 10, but will track fitness during motor moves and replace individual/chromosome if \"fitter\" individual found on the way to destination.\n",
    "\n"
   ]
  },
  {
   "cell_type": "code",
   "execution_count": 33,
   "metadata": {
    "ExecuteTime": {
     "end_time": "2020-01-28T16:20:04.509467Z",
     "start_time": "2020-01-28T16:20:04.493420Z"
    }
   },
   "outputs": [],
   "source": [
    "moveMotors(init_pos, motors)"
   ]
  },
  {
   "cell_type": "code",
   "execution_count": 34,
   "metadata": {
    "ExecuteTime": {
     "end_time": "2020-01-28T16:31:25.475446Z",
     "start_time": "2020-01-28T16:30:20.498342Z"
    }
   },
   "outputs": [
    {
     "name": "stdout",
     "output_type": "stream",
     "text": [
      " \n",
      "Total processing time 64 s\n",
      "Total sampled individuals:  489\n"
     ]
    },
    {
     "data": {
      "image/png": "[encoded data removed]",
      "text/plain": [
       "<Figure size 576x360 with 1 Axes>"
      ]
     },
     "metadata": {},
     "output_type": "display_data"
    }
   ],
   "source": [
    "moveMotors(init_pos, motors)\n",
    "\n",
    "nPop = 10\n",
    "Pc = 0.8\n",
    "Pm = 0.05\n",
    "nElites = 2\n",
    "nGen = 100\n",
    "setMotorV(motors, speed = 0.2)\n",
    "\n",
    "aveFit, peakFit, sampledN = gaScan(motors, nPopulation = nPop, Pc = Pc, Pm = Pm, nGenerations = nGen, \n",
    "                                   nElite = nElites, OM = True, critVal = 0.90, seed = seed)\n",
    "print('Total sampled individuals: ',sampledN)"
   ]
  },
  {
   "cell_type": "code",
   "execution_count": 31,
   "metadata": {
    "ExecuteTime": {
     "end_time": "2020-01-28T15:20:31.818725Z",
     "start_time": "2020-01-28T15:20:31.811468Z"
    }
   },
   "outputs": [
    {
     "data": {
      "text/plain": [
       "0.9239475250726878"
      ]
     },
     "execution_count": 31,
     "metadata": {},
     "output_type": "execute_result"
    }
   ],
   "source": [
    "peakFit[-1]"
   ]
  },
  {
   "cell_type": "code",
   "execution_count": null,
   "metadata": {},
   "outputs": [],
   "source": []
  },
  {
   "cell_type": "code",
   "execution_count": 41,
   "metadata": {
    "ExecuteTime": {
     "end_time": "2020-01-24T17:53:15.637795Z",
     "start_time": "2020-01-24T17:53:15.630749Z"
    }
   },
   "outputs": [],
   "source": [
    "moveMotors(init_pos, motors)"
   ]
  },
  {
   "cell_type": "code",
   "execution_count": 42,
   "metadata": {
    "ExecuteTime": {
     "end_time": "2020-01-24T17:54:43.643967Z",
     "start_time": "2020-01-24T17:53:29.455410Z"
    }
   },
   "outputs": [
    {
     "name": "stdout",
     "output_type": "stream",
     "text": [
      " \n",
      "Total processing time 73 s\n",
      "Total sampled individuals:  425\n"
     ]
    },
    {
     "data": {
      "image/png": "[encoded data removed]",
      "text/plain": [
       "<Figure size 576x360 with 1 Axes>"
      ]
     },
     "metadata": {},
     "output_type": "display_data"
    }
   ],
   "source": [
    "moveMotors(init_pos, motors)\n",
    "\n",
    "nPop = 10\n",
    "Pc = 0.8\n",
    "Pm = 0.05\n",
    "nElites = 2\n",
    "nGen = 100\n",
    "setMotorV(motors, speed = 0.5)\n",
    "\n",
    "aveFit, peakFit, sampledN = gaScan(motors, nPopulation = nPop, Pc = Pc, Pm = Pm, nGenerations = nGen, \n",
    "                                   nElite = nElites, OM = True, critVal = 0.90, seed = seed)\n",
    "print('Total sampled individuals: ',sampledN)"
   ]
  },
  {
   "cell_type": "code",
   "execution_count": 43,
   "metadata": {
    "ExecuteTime": {
     "end_time": "2020-01-24T18:17:26.977256Z",
     "start_time": "2020-01-24T18:17:26.972435Z"
    }
   },
   "outputs": [
    {
     "data": {
      "text/plain": [
       "0.9063769498779158"
      ]
     },
     "execution_count": 43,
     "metadata": {},
     "output_type": "execute_result"
    }
   ],
   "source": [
    "peakFit[-1]"
   ]
  },
  {
   "cell_type": "code",
   "execution_count": null,
   "metadata": {},
   "outputs": [],
   "source": []
  },
  {
   "cell_type": "code",
   "execution_count": 48,
   "metadata": {
    "ExecuteTime": {
     "end_time": "2020-01-24T18:05:37.565710Z",
     "start_time": "2020-01-24T18:05:37.556631Z"
    }
   },
   "outputs": [],
   "source": [
    "moveMotors(init_pos, motors)"
   ]
  },
  {
   "cell_type": "code",
   "execution_count": 49,
   "metadata": {
    "ExecuteTime": {
     "end_time": "2020-01-24T18:17:09.026707Z",
     "start_time": "2020-01-24T18:05:50.156947Z"
    }
   },
   "outputs": [
    {
     "name": "stdout",
     "output_type": "stream",
     "text": [
      " \n",
      "Total processing time 678 s\n",
      "Total sampled individuals:  2338\n"
     ]
    },
    {
     "data": {
      "image/png": "[encoded data removed]",
      "text/plain": [
       "<Figure size 576x360 with 1 Axes>"
      ]
     },
     "metadata": {},
     "output_type": "display_data"
    }
   ],
   "source": [
    "moveMotors(init_pos, motors)\n",
    "\n",
    "nPop = 10\n",
    "Pc = 0.8\n",
    "Pm = 0.05\n",
    "nElites = 2\n",
    "nGen = 100\n",
    "setMotorV(motors, speed = 0.1)\n",
    "\n",
    "aveFit, peakFit, sampledN = gaScan(motors, nPopulation = nPop, Pc = Pc, Pm = Pm, nGenerations = nGen, \n",
    "                                   nElite = nElites, OM = True, critVal = 0.90, seed = seed)\n",
    "print('Total sampled individuals: ',sampledN)"
   ]
  },
  {
   "cell_type": "code",
   "execution_count": 50,
   "metadata": {
    "ExecuteTime": {
     "end_time": "2020-01-24T18:17:26.977256Z",
     "start_time": "2020-01-24T18:17:26.972435Z"
    }
   },
   "outputs": [
    {
     "data": {
      "text/plain": [
       "0.9746274339850959"
      ]
     },
     "execution_count": 50,
     "metadata": {},
     "output_type": "execute_result"
    }
   ],
   "source": [
    "peakFit[-1]"
   ]
  },
  {
   "cell_type": "code",
   "execution_count": null,
   "metadata": {},
   "outputs": [],
   "source": []
  }
 ],
 "metadata": {
  "kernelspec": {
   "display_name": "Python 3",
   "language": "python",
   "name": "python3"
  },
  "language_info": {
   "codemirror_mode": {
    "name": "ipython",
    "version": 3
   },
   "file_extension": ".py",
   "mimetype": "text/x-python",
   "name": "python",
   "nbconvert_exporter": "python",
   "pygments_lexer": "ipython3",
   "version": "3.7.3"
  }
 },
 "nbformat": 4,
 "nbformat_minor": 2
}
