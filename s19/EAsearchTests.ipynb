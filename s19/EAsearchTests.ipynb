{
 "cells": [
  {
   "cell_type": "code",
   "execution_count": 1,
   "metadata": {
    "ExecuteTime": {
     "end_time": "2020-01-28T15:03:26.874421Z",
     "start_time": "2020-01-28T15:03:26.599635Z"
    }
   },
   "outputs": [],
   "source": [
    "import numpy as np\n",
    "%matplotlib inline\n",
    "import matplotlib.pyplot as plt\n",
    "import epics as PV\n",
    "import time\n",
    "import math\n",
    "from IPython.display import display, clear_output"
   ]
  },
  {
   "cell_type": "code",
   "execution_count": 2,
   "metadata": {
    "ExecuteTime": {
     "end_time": "2020-01-28T15:03:35.397267Z",
     "start_time": "2020-01-28T15:03:35.376804Z"
    }
   },
   "outputs": [],
   "source": [
    "class s19motor:\n",
    "    def __init__(self, name, relRange = None, absRange = None, setPV = None, rbvPV = None, movPV = None):\n",
    "        self.name = name\n",
    "        if setPV is None:\n",
    "            self.setPV = name+'.VAL'\n",
    "        else:\n",
    "            self.setPV = setPV\n",
    "        if rbvPV is None:\n",
    "            self.rbvPV = name+'.RBV'\n",
    "        else:\n",
    "            self.rbvPV = rbvPV\n",
    "        if movPV is None:\n",
    "            self.movPV = name+'.DMOV'\n",
    "        else:\n",
    "            self.movPV = movPV\n",
    "        if relRange is None:\n",
    "            self.scanStart = absRange[0]\n",
    "            self.scanStop = absRange[1]\n",
    "            self.scanStep = absRange[2]\n",
    "        else: \n",
    "            self.scanStart = PV.caget(self.rbvPV)-relRange[0]\n",
    "            self.scanStop = PV.caget(self.rbvPV)+relRange[0]\n",
    "            self.scanStep = relRange[1]\n",
    "        \n",
    "        self.resetPosition = PV.caget(self.rbvPV)\n",
    "        \n",
    "    def reset(self):\n",
    "        PV.caput(self.setPV, self.resetPosition)\n"
   ]
  },
  {
   "cell_type": "markdown",
   "metadata": {},
   "source": [
    "### Define motors\n",
    "\n",
    "Needs to be updated for s19BM"
   ]
  },
  {
   "cell_type": "code",
   "execution_count": 18,
   "metadata": {
    "ExecuteTime": {
     "end_time": "2020-01-28T15:03:37.357252Z",
     "start_time": "2020-01-28T15:03:37.341481Z"
    }
   },
   "outputs": [],
   "source": [
    "motors = [s19motor('tune', relRange = [100, 1.0], \n",
    "                   setPV = 'BM:MO:Atune:RqsPos', \n",
    "                   rbvPV = 'BM:MO:Atune:ActPos',\n",
    "                   movPV = 'BM:MO:Atune:InPos'),\n",
    "         s19motor('twist', relRange = [15, 1.0], \n",
    "                  setPV = 'BM:MO:Atwist:RqsPos', \n",
    "                  rbvPV = 'BM:MO:Atwist:ActPos',\n",
    "                  movPV = 'BM:MO:Atwist:InPos'),\n",
    "         s19motor('focus', relRange = [0.2, 0.002], \n",
    "                  setPV = 'BM:MO:Afocus:RqsPos', \n",
    "                  rbvPV = 'BM:MO:Afocus:ActPos',\n",
    "                  movPV = 'BM:MO:Afocus:InPos')#,\n",
    "#         s19motor('roll', relRange = [5.0, 0.5], \n",
    "#                  setPV = 'BM:MO:Achi:RqsPos', \n",
    "#                  rbvPV = 'BM:MO:Achi:ActPos',\n",
    "#                  movPV = 'BM:MO:Achi:InPos')\n",
    "         ]"
   ]
  },
  {
   "cell_type": "code",
   "execution_count": 19,
   "metadata": {},
   "outputs": [
    {
     "name": "stdout",
     "output_type": "stream",
     "text": [
      "   Name   |   RBV    |  Start   |   Stop   |   Step   |Reset Position |    Status     \n",
      "-------------------------------------------------------------------------------------\n",
      "   tune   | 1350.529 | 1250.529 | 1450.529 |  1.0000  |   1350.529    |       1       \n",
      "  twist   | -57.781  | -72.781  | -42.781  |  1.0000  |    -57.781    |       1       \n",
      "  focus   |  1.920   |  1.720   |  2.120   |  0.0020  |     1.920     |       1       \n"
     ]
    }
   ],
   "source": [
    "hformat = \"{:^10}|{:^10}|{:^10}|{:^10}|{:^10}|{:^15}|{:^15}\"\n",
    "oformat = \"{0:^10}|{1:^10.3f}|{2:^10.3f}|{3:^10.3f}|{4:^10.4f}|{5:^15.3f}|{6:^15}\"\n",
    "\n",
    "print(hformat.format('Name','RBV','Start','Stop','Step','Reset Position','Status'))\n",
    "print(\"-\"*85)\n",
    "for m in motors:\n",
    "    print(oformat.format(m.name, PV.caget(m.rbvPV), m.scanStart, m.scanStop, m.scanStep\n",
    "                         , m.resetPosition, PV.caget(m.movPV)))"
   ]
  },
  {
   "cell_type": "code",
   "execution_count": null,
   "metadata": {},
   "outputs": [],
   "source": []
  },
  {
   "cell_type": "code",
   "execution_count": null,
   "metadata": {
    "ExecuteTime": {
     "end_time": "2020-01-27T18:12:23.886957Z",
     "start_time": "2020-01-27T18:12:23.847799Z"
    }
   },
   "outputs": [],
   "source": [
    "#PV.caput(motors[0].setPV, 2.0)"
   ]
  },
  {
   "cell_type": "code",
   "execution_count": 62,
   "metadata": {
    "ExecuteTime": {
     "end_time": "2020-01-28T15:03:46.524727Z",
     "start_time": "2020-01-28T15:03:46.510044Z"
    }
   },
   "outputs": [],
   "source": [
    "def moveMotors(positions, eaMotors, seq = False):\n",
    "    for pos, motor in zip(positions, eaMotors):\n",
    "        PV.caput(motor.setPV, pos)    #moves done ~simultaneously, though started sequentially\n",
    "        if seq:\n",
    "            while stillMoving([motor]):\n",
    "                time.sleep(0.05)\n",
    "            "
   ]
  },
  {
   "cell_type": "code",
   "execution_count": 7,
   "metadata": {
    "ExecuteTime": {
     "end_time": "2020-01-28T15:03:47.842000Z",
     "start_time": "2020-01-28T15:03:47.825123Z"
    }
   },
   "outputs": [],
   "source": [
    "def getMotors(eaMotors):\n",
    "    positions = []\n",
    "    for motor in eaMotors:\n",
    "        pos = PV.caget(motor.rbvPV)\n",
    "        positions.append(pos)\n",
    "    \n",
    "    return np.asarray(positions)"
   ]
  },
  {
   "cell_type": "markdown",
   "metadata": {},
   "source": [
    "### Define genes\n",
    "Based on motors -- each entry in gene list contains an array of all possible values for that gene/motor"
   ]
  },
  {
   "cell_type": "code",
   "execution_count": 20,
   "metadata": {
    "ExecuteTime": {
     "end_time": "2020-01-28T15:03:54.360731Z",
     "start_time": "2020-01-28T15:03:54.349966Z"
    }
   },
   "outputs": [],
   "source": [
    "genes = [np.arange(motor.scanStart,motor.scanStop+motor.scanStep,motor.scanStep) for motor in motors]"
   ]
  },
  {
   "cell_type": "code",
   "execution_count": 21,
   "metadata": {},
   "outputs": [
    {
     "name": "stdout",
     "output_type": "stream",
     "text": [
      "(201,)\n",
      "(31,)\n",
      "(201,)\n"
     ]
    }
   ],
   "source": [
    "for g in genes:\n",
    "    print(g.shape)"
   ]
  },
  {
   "cell_type": "markdown",
   "metadata": {},
   "source": [
    "#### Test motor move"
   ]
  },
  {
   "cell_type": "code",
   "execution_count": 24,
   "metadata": {},
   "outputs": [
    {
     "data": {
      "text/plain": [
       "array([1439.52896467,  -59.78107467,    1.89998576])"
      ]
     },
     "execution_count": 24,
     "metadata": {},
     "output_type": "execute_result"
    }
   ],
   "source": [
    "np.asarray([np.random.choice(gene) for gene in genes])"
   ]
  },
  {
   "cell_type": "code",
   "execution_count": 64,
   "metadata": {
    "ExecuteTime": {
     "end_time": "2020-01-28T15:03:57.635501Z",
     "start_time": "2020-01-28T15:03:57.485263Z"
    }
   },
   "outputs": [],
   "source": [
    "moveMotors(np.asarray([np.random.choice(gene) for gene in genes]), motors, seq = True)"
   ]
  },
  {
   "cell_type": "markdown",
   "metadata": {},
   "source": [
    "#### Set speed of all motors\n",
    "Needs to be looked into further for s19"
   ]
  },
  {
   "cell_type": "code",
   "execution_count": null,
   "metadata": {
    "ExecuteTime": {
     "end_time": "2020-01-28T15:04:34.207941Z",
     "start_time": "2020-01-28T15:04:34.192213Z"
    }
   },
   "outputs": [],
   "source": [
    "#def setMotorV(gaMotors, speed):\n",
    "#    speedPVs = ['.S', '.SBAK', '.SBAS']\n",
    "#    for motor in gaMotors:\n",
    "#        [PV.caput(motor.pvName+sPV,speed) for sPV in speedPVs]"
   ]
  },
  {
   "cell_type": "code",
   "execution_count": null,
   "metadata": {
    "ExecuteTime": {
     "end_time": "2020-01-28T15:04:38.963321Z",
     "start_time": "2020-01-28T15:04:38.398576Z"
    }
   },
   "outputs": [],
   "source": [
    "#setMotorV(motors, speed = 0.1)"
   ]
  },
  {
   "cell_type": "markdown",
   "metadata": {},
   "source": [
    "#### Check if motors are still moving"
   ]
  },
  {
   "cell_type": "code",
   "execution_count": 10,
   "metadata": {
    "ExecuteTime": {
     "end_time": "2020-01-28T15:04:43.781815Z",
     "start_time": "2020-01-28T15:04:43.760380Z"
    }
   },
   "outputs": [],
   "source": [
    "def stillMoving(eaMotors):\n",
    "    # 0 = moving\n",
    "    # 1 = positioned\n",
    "    status = [bool(PV.caget(motor.movPV)) for motor in eaMotors]\n",
    "    \n",
    "    moving = not all(status)\n",
    "    \n",
    "    return moving\n",
    "    "
   ]
  },
  {
   "cell_type": "code",
   "execution_count": 11,
   "metadata": {
    "ExecuteTime": {
     "end_time": "2020-01-28T15:04:44.616342Z",
     "start_time": "2020-01-28T15:04:44.415748Z"
    }
   },
   "outputs": [
    {
     "data": {
      "text/plain": [
       "False"
      ]
     },
     "execution_count": 11,
     "metadata": {},
     "output_type": "execute_result"
    }
   ],
   "source": [
    "stillMoving(motors)"
   ]
  },
  {
   "cell_type": "code",
   "execution_count": 65,
   "metadata": {
    "ExecuteTime": {
     "end_time": "2020-01-28T15:05:09.267387Z",
     "start_time": "2020-01-28T15:04:51.446273Z"
    }
   },
   "outputs": [
    {
     "name": "stdout",
     "output_type": "stream",
     "text": [
      "Done Moving  \n",
      "tune 1\n",
      "twist 1\n",
      "focus 1\n"
     ]
    }
   ],
   "source": [
    "moveMotors(np.asarray([np.random.choice(gene) for gene in genes]), motors)\n",
    "time.sleep(0.05)\n",
    "while stillMoving(motors):\n",
    "    print(\"Still Moving \\r\", end = '')\n",
    "#    print(\"Still Moving\", [PV.caget(m.movPV) for m in motors])\n",
    "print(\"Done Moving \")\n",
    "for m in motors:\n",
    "    print(m.name, PV.caget(m.movPV))"
   ]
  },
  {
   "cell_type": "markdown",
   "metadata": {},
   "source": [
    "### Initialize population"
   ]
  },
  {
   "cell_type": "code",
   "execution_count": 27,
   "metadata": {
    "ExecuteTime": {
     "end_time": "2020-01-28T15:05:20.573284Z",
     "start_time": "2020-01-28T15:05:20.558311Z"
    }
   },
   "outputs": [],
   "source": [
    "def init_pop(nPopulation, genes, seed = 42):\n",
    "    population = []\n",
    "    np.random.seed(seed)\n",
    "    for i in range(nPopulation):\n",
    "        population.append(np.asarray([np.random.choice(gene) for gene in genes]))\n",
    "        \n",
    "    return population"
   ]
  },
  {
   "cell_type": "markdown",
   "metadata": {},
   "source": [
    "### Fitness function\n",
    "Needs to be updated for s19BM"
   ]
  },
  {
   "cell_type": "code",
   "execution_count": 99,
   "metadata": {},
   "outputs": [],
   "source": [
    "downStreamPV = 'BM:M:DNBPM:SumSR'\n",
    "guardSlitPV = 'BM:M:GSBPM:SumSR'\n",
    "\n",
    "def fitness(GS = False, wait = 0.5):\n",
    "\n",
    "    if GS:\n",
    "        diagPV = guardSlitPV\n",
    "    else:\n",
    "        diagPV = downStreamPV\n",
    "    time.sleep(wait)\n",
    "    fit = PV.caget(diagPV)\n",
    "    \n",
    "    return fit"
   ]
  },
  {
   "cell_type": "code",
   "execution_count": 66,
   "metadata": {},
   "outputs": [
    {
     "name": "stdout",
     "output_type": "stream",
     "text": [
      "2.30763197498002e-08\n"
     ]
    }
   ],
   "source": [
    "print(fitness())"
   ]
  },
  {
   "cell_type": "code",
   "execution_count": 67,
   "metadata": {},
   "outputs": [
    {
     "name": "stdout",
     "output_type": "stream",
     "text": [
      "1.4321876240851376e-08\n"
     ]
    }
   ],
   "source": [
    "print(fitness(GS=True))"
   ]
  },
  {
   "cell_type": "code",
   "execution_count": 100,
   "metadata": {
    "ExecuteTime": {
     "end_time": "2020-01-28T15:05:32.542064Z",
     "start_time": "2020-01-28T15:05:32.500256Z"
    }
   },
   "outputs": [],
   "source": [
    "def get_fitness(pop, motors, GS = False, OM = False, minFit = 0, wTime = 0.5, seq = True, dTime = 0.25):\n",
    "    fitnessArr = []\n",
    "    act_popN = 0\n",
    "    oldFit = -1\n",
    "    for j, p in enumerate(pop):\n",
    "        if OM:\n",
    "            tempFit = minFit\n",
    "            rePop = False\n",
    "        moveMotors(p, motors, seq = seq)\n",
    "        time.sleep(wTime)\n",
    "        while stillMoving(motors):          \n",
    "            if OM:\n",
    "                currP = getMotors(motors)\n",
    "                currFit = fitness(GS = GS, wait = dTime)\n",
    "                if oldFit != tempFit:\n",
    "                    act_popN += 1\n",
    "                    oldFit = tempFit\n",
    "                if currFit > tempFit:\n",
    "                    tempP = currP\n",
    "                    tempFit = currFit\n",
    "                    rePop = True\n",
    "                    \n",
    "        finalFit = fitness(GS = GS)\n",
    "        if OM and rePop:\n",
    "            if tempFit > finalFit:\n",
    "                finalFit = tempFit\n",
    "                pop[j] = tempP\n",
    "        fitnessArr.append(finalFit)\n",
    "\n",
    "    return pop, fitnessArr, act_popN"
   ]
  },
  {
   "cell_type": "markdown",
   "metadata": {},
   "source": [
    "### Test fitness function for population"
   ]
  },
  {
   "cell_type": "code",
   "execution_count": 101,
   "metadata": {
    "ExecuteTime": {
     "end_time": "2020-01-28T15:08:20.667142Z",
     "start_time": "2020-01-28T15:05:42.130109Z"
    }
   },
   "outputs": [
    {
     "name": "stdout",
     "output_type": "stream",
     "text": [
      "Initial Population:\n",
      "[1352.52896467  -53.78107467    1.90398576]\n",
      "[1264.52896467  -62.78107467    1.86198576]\n",
      "[1438.52896467  -52.78107467    1.92398576]\n",
      "[1371.52896467  -54.78107467    1.86798576]\n",
      "[1337.52896467  -52.78107467    1.91798576]\n",
      "[1353.52896467  -49.78107467    1.97998576]\n",
      "[1399.52896467  -52.78107467    1.72198576]\n",
      "[1337.52896467  -61.78107467    2.03398576]\n",
      "[1287.52896467  -71.78107467    2.10198576]\n",
      "[1437.52896467  -52.78107467    2.03998576]\n",
      "test Fitness\n",
      "[3.769130928559833e-07, 1.9606975520779523e-08, 2.7205951040596234e-08, 1.9346686726255413e-08, 2.031367536075121e-07, 5.897908011504696e-07, 3.6877375327567746e-07, 2.779288270925105e-07, 2.0684704528804652e-08, 1.6477859397586777e-07]\n"
     ]
    }
   ],
   "source": [
    "testPop = init_pop(10, genes)\n",
    "print('Initial Population:')\n",
    "for p in testPop:\n",
    "    print(p)\n",
    "_, testFitness, _ = get_fitness(testPop, motors, OM = False)\n",
    "print('test Fitness')\n",
    "print(testFitness)"
   ]
  },
  {
   "cell_type": "code",
   "execution_count": 81,
   "metadata": {},
   "outputs": [],
   "source": [
    "moveMotors(np.asarray([m.resetPosition for m in motors]), motors, seq = True)"
   ]
  },
  {
   "cell_type": "code",
   "execution_count": 79,
   "metadata": {},
   "outputs": [
    {
     "data": {
      "text/plain": [
       "[1350.528964674479, -57.781074674479214, 1.919985758]"
      ]
     },
     "execution_count": 79,
     "metadata": {},
     "output_type": "execute_result"
    }
   ],
   "source": []
  },
  {
   "cell_type": "markdown",
   "metadata": {},
   "source": [
    "### Test fitness function for population with Observer mode\n",
    "\n",
    "not using observer mode for s19 initially"
   ]
  },
  {
   "cell_type": "code",
   "execution_count": null,
   "metadata": {
    "ExecuteTime": {
     "end_time": "2020-01-28T15:08:20.667142Z",
     "start_time": "2020-01-28T15:05:42.130109Z"
    },
    "scrolled": true
   },
   "outputs": [],
   "source": [
    "newPop, newFitness, _ = get_fitness(testPop, motors, OM = True)\n",
    "print('New Population:')\n",
    "for p in newPop:\n",
    "    print(p)\n",
    "print('New Fitness:')\n",
    "print(newFitness)"
   ]
  },
  {
   "cell_type": "markdown",
   "metadata": {},
   "source": [
    "### Ranking by fitness"
   ]
  },
  {
   "cell_type": "code",
   "execution_count": 102,
   "metadata": {
    "ExecuteTime": {
     "end_time": "2020-01-28T15:08:43.633114Z",
     "start_time": "2020-01-28T15:08:43.628848Z"
    }
   },
   "outputs": [],
   "source": [
    "def rank_pop(fitness):\n",
    "    return np.argsort(fitness)"
   ]
  },
  {
   "cell_type": "markdown",
   "metadata": {},
   "source": [
    "### Select Mating Pool"
   ]
  },
  {
   "cell_type": "code",
   "execution_count": 103,
   "metadata": {
    "ExecuteTime": {
     "end_time": "2020-01-28T15:08:45.335787Z",
     "start_time": "2020-01-28T15:08:45.324054Z"
    }
   },
   "outputs": [],
   "source": [
    "def mating_pool_probs(fitness):\n",
    "    return [fit/sum(fitness) for fit in fitness]"
   ]
  },
  {
   "cell_type": "code",
   "execution_count": 104,
   "metadata": {
    "ExecuteTime": {
     "end_time": "2020-01-28T15:08:46.314731Z",
     "start_time": "2020-01-28T15:08:46.289983Z"
    }
   },
   "outputs": [],
   "source": [
    "def get_mating_pool(population, rankings, probs, nElites, nPopulation):\n",
    "    rankedProbs = [probs[i] for i in rankings]\n",
    "    \n",
    "    #include elites\n",
    "    #remainder based on probabilities from fitness_i/sum(fitness_i)\n",
    "    breedingPop = []\n",
    "    breedingPop[0:nElites] = rankings[::-1][0:nElites]\n",
    "    breedingPop[nElites:nPopulation-nElites] = np.random.choice(rankings, size = nPopulation-nElites, p = rankedProbs)\n",
    "    \n",
    "    return breedingPop"
   ]
  },
  {
   "cell_type": "markdown",
   "metadata": {},
   "source": [
    "### Breed (crossover)"
   ]
  },
  {
   "cell_type": "code",
   "execution_count": 105,
   "metadata": {
    "ExecuteTime": {
     "end_time": "2020-01-28T15:08:48.057542Z",
     "start_time": "2020-01-28T15:08:48.011185Z"
    }
   },
   "outputs": [],
   "source": [
    "def get_offspring(nGenes, nPopulation, population, breedingPop, Pc):\n",
    "    #iterate through pairs i, i+1 (N/2 times) and if P < Pc swap genes 1 through randomly choose of 2,..,N-1)\n",
    "    offspring = []\n",
    "    for i in range(int(nPopulation/2)):\n",
    "        parent1 = np.copy(population[breedingPop[2*i]])\n",
    "        parent2 = np.copy(population[breedingPop[2*i+1]])\n",
    "        \n",
    "        child1 = np.copy(parent1)\n",
    "        child2 = np.copy(parent2)\n",
    "        if np.random.random() < Pc:\n",
    "            crossover = np.random.choice(nGenes-1) + 1\n",
    "            child1[crossover:]=parent2[crossover:]\n",
    "            child2[crossover:]=parent1[crossover:]\n",
    "        offspring.append(child1)\n",
    "        offspring.append(child2)\n",
    "    return offspring"
   ]
  },
  {
   "cell_type": "markdown",
   "metadata": {},
   "source": [
    "### Mutate"
   ]
  },
  {
   "cell_type": "code",
   "execution_count": 106,
   "metadata": {
    "ExecuteTime": {
     "end_time": "2020-01-28T15:08:49.697701Z",
     "start_time": "2020-01-28T15:08:49.674823Z"
    }
   },
   "outputs": [],
   "source": [
    "def mutate_pop(pop, Pm, genes):\n",
    "    #iterate through all genes on all chromosomes, if P < Pm pick randomly from gene's interval\n",
    "    mutatedOffspring = np.copy(pop)\n",
    "    for i, ind in enumerate(pop):\n",
    "        for j, gene in enumerate(ind):\n",
    "            if np.random.random() < Pm:\n",
    "                mutatedOffspring[i][j] = np.random.choice(genes[j])\n",
    "            \n",
    "    \n",
    "    return mutatedOffspring"
   ]
  },
  {
   "cell_type": "markdown",
   "metadata": {},
   "source": [
    "### Put together"
   ]
  },
  {
   "cell_type": "code",
   "execution_count": 107,
   "metadata": {
    "ExecuteTime": {
     "end_time": "2020-01-28T15:08:52.617818Z",
     "start_time": "2020-01-28T15:08:52.382277Z"
    }
   },
   "outputs": [],
   "source": [
    "def gaScan(motors, nPopulation = 10, Pc = 0.8, Pm = 0.05, nGenerations = 100, nElite = 5\n",
    "           , OM = True, critVal = 1.0, seed = 42):\n",
    "    print('Observer Mode: {}'.format(OM))\n",
    "    startTime = time.time()\n",
    "    genes = [np.arange(motor.scanStart,motor.scanStop+motor.scanStep,motor.scanStep) for motor in motors]\n",
    "    nGenes = len(genes)\n",
    "    pop = init_pop(nPopulation, genes, seed)\n",
    "    peakFit = []\n",
    "    aveFit = []\n",
    "    \n",
    "    fig = plt.figure(figsize = (8,5))\n",
    "    ax = fig.add_subplot(1, 1, 1) \n",
    "    #ax = fig.add_subplot(2, 1, 1) \n",
    "    #bx = fig.add_subplot(2, 1, 2)\n",
    "    \n",
    "    sampledN = 0\n",
    "    \n",
    "    #for i in log_progress(range(nGenerations), name = \"Generations\"):\n",
    "    for i in range(nGenerations):\n",
    "        pop, popFitness, popN = get_fitness(pop, motors, OM = (OM and (i > 0)))\n",
    "        peakFit.append(max(popFitness))\n",
    "        aveFit.append(np.mean(popFitness))\n",
    "        \n",
    "        sampledN += popN\n",
    "        \n",
    "        if peakFit[-1] < critVal:\n",
    "            print('Current Peak Fitness: {}; Goal Value: {} \\r'.format(peakFit[-1], critVal), end = '')\n",
    "            rankings = rank_pop(popFitness) # list of indexes\n",
    "            probs = mating_pool_probs(popFitness)\n",
    "        \n",
    "            breedingPop = get_mating_pool(pop, rankings, probs, nElite, nPopulation)\n",
    "            offspring = get_offspring(nGenes, nPopulation, pop, breedingPop, Pc)\n",
    "            pop = mutate_pop(offspring, Pm, genes)\n",
    "        else:\n",
    "            print('Final Peak Fitness: {}'.format(peakFit[-1]))\n",
    "            print('Minimum fitness criteria met')\n",
    "            moveMotors(pop[np.argmax(popFitness)], motors, seq = True)\n",
    "    \n",
    "        \n",
    "        ax.cla()\n",
    "        \n",
    "        line1, = ax.plot(peakFit, color = 'r', label = 'Peak Fitness')\n",
    "        line2, = ax.plot(aveFit, color = 'b', label = 'Ave Fitness')\n",
    "        ax.legend(loc='lower right')\n",
    "        ax.set_title('Population = {}, Elites = {}, Pc = {}, Pm = {}, OM = {}'.format(nPopulation, \n",
    "                                                                                      nElites, Pc, Pm, OM))\n",
    "        ax.set_xlabel('Generation')\n",
    "        ax.set_ylabel('Fitness')\n",
    "        ax.set_ylim([0,1.1*critVal])\n",
    "        \n",
    "        display(fig)\n",
    "        clear_output(wait = True)\n",
    "    \n",
    "        if peakFit[-1] >= critVal:\n",
    "            break\n",
    "            \n",
    "    print(' ')\n",
    "#    pop, finalFitness = get_fitness(pop, motors, OM = False)\n",
    "#    peakFit.append(max(finalFitness))\n",
    "#    aveFit.append(np.mean(finalFitness))\n",
    "\n",
    "#    ax.cla()\n",
    "        \n",
    "#    line1, = ax.plot(peakFit, color = 'r', label = 'Peak Fitness')\n",
    "#    line2, = ax.plot(aveFit, color = 'b', label = 'Ave Fitness')\n",
    "#    ax.legend(loc='lower right')\n",
    "#    ax.set_title('Population = {}, Elites = {}, Pc = {}, Pm = {}, OM = {}'.format(nPopulation, \n",
    "#                                                                                     nElites, Pc, Pm, OM))\n",
    "#    ax.set_xlabel('Generation')\n",
    "#    ax.set_ylabel('Fitness')\n",
    "#    ax.set_ylim([0,1.0])\n",
    "    \n",
    "#    display(fig)\n",
    "#    clear_output(wait = True)\n",
    "    \n",
    "    endTime = time.time()\n",
    "    print('Total processing time {} s'.format(math.floor(endTime-startTime)))\n",
    "    \n",
    "#    fig, ax = plt.subplots()\n",
    "#    line1, = ax.plot(peakFit, color = 'r', label = 'Peak Fitness')\n",
    "#    line2, = ax.plot(aveFit, color = 'b', label = 'Ave Fitness')\n",
    "#    ax.legend(loc='lower right')\n",
    "#    ax.set_title('Population = {}, Elites = {}, Pc = {}, Pm = {}, OM = {}'.format(nPopulation, nElites, \n",
    "#                                                                                  Pc, Pm, OM))\n",
    "#    ax.set_xlabel('Generation')\n",
    "#    ax.set_ylabel('Fitness')\n",
    "#    plt.show\n",
    "    \n",
    "    return aveFit, peakFit, sampledN\n",
    "          \n",
    "    \n",
    "    "
   ]
  },
  {
   "cell_type": "code",
   "execution_count": 111,
   "metadata": {},
   "outputs": [],
   "source": [
    "moveMotors(np.asarray([m.resetPosition for m in motors]), motors, seq = True)"
   ]
  },
  {
   "cell_type": "code",
   "execution_count": 109,
   "metadata": {
    "ExecuteTime": {
     "end_time": "2020-01-28T16:14:59.635566Z",
     "start_time": "2020-01-28T16:09:13.353383Z"
    }
   },
   "outputs": [
    {
     "name": "stdout",
     "output_type": "stream",
     "text": [
      " \n",
      "Total processing time 162 s\n"
     ]
    },
    {
     "data": {
      "image/png": "[encoded data removed]",
      "text/plain": [
       "<Figure size 576x360 with 1 Axes>"
      ]
     },
     "metadata": {
      "needs_background": "light"
     },
     "output_type": "display_data"
    }
   ],
   "source": [
    "seed = 42\n",
    "nPop = 10\n",
    "Pc = 0.8\n",
    "Pm = 0.05\n",
    "nElites = 5\n",
    "nGen = 10\n",
    "#setMotorV(motors, speed = 2.0)\n",
    "\n",
    "aveFit, peakFit, sampledN = gaScan(motors, nPopulation = nPop, Pc = Pc, Pm = Pm, nGenerations = nGen\n",
    "                                   , nElite = nElites, OM = False, critVal = 1e-6, seed = seed)\n",
    "\n"
   ]
  },
  {
   "cell_type": "code",
   "execution_count": 110,
   "metadata": {
    "ExecuteTime": {
     "end_time": "2020-01-28T15:18:30.117460Z",
     "start_time": "2020-01-28T15:18:30.105163Z"
    }
   },
   "outputs": [
    {
     "data": {
      "text/plain": [
       "6.196223515096567e-07"
      ]
     },
     "execution_count": 110,
     "metadata": {},
     "output_type": "execute_result"
    }
   ],
   "source": [
    "peakFit[-1]"
   ]
  },
  {
   "cell_type": "code",
   "execution_count": 94,
   "metadata": {},
   "outputs": [
    {
     "data": {
      "text/plain": [
       "6.327439949555645e-07"
      ]
     },
     "execution_count": 94,
     "metadata": {},
     "output_type": "execute_result"
    }
   ],
   "source": [
    "peakFit[-1]"
   ]
  },
  {
   "cell_type": "code",
   "execution_count": null,
   "metadata": {},
   "outputs": [],
   "source": [
    "peakFit[-1]"
   ]
  }
 ],
 "metadata": {
  "kernelspec": {
   "display_name": "Python 3",
   "language": "python",
   "name": "python3"
  },
  "language_info": {
   "codemirror_mode": {
    "name": "ipython",
    "version": 3
   },
   "file_extension": ".py",
   "mimetype": "text/x-python",
   "name": "python",
   "nbconvert_exporter": "python",
   "pygments_lexer": "ipython3",
   "version": "3.7.3"
  }
 },
 "nbformat": 4,
 "nbformat_minor": 2
}
