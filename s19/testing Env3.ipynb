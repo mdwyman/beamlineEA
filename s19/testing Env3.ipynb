{
 "cells": [
  {
   "cell_type": "code",
   "execution_count": 1,
   "metadata": {},
   "outputs": [],
   "source": [
    "from epics import caget, caput, cainfo"
   ]
  },
  {
   "cell_type": "code",
   "execution_count": 2,
   "metadata": {},
   "outputs": [
    {
     "data": {
      "text/plain": [
       "101197.0"
      ]
     },
     "execution_count": 2,
     "metadata": {},
     "output_type": "execute_result"
    }
   ],
   "source": [
    "caget('BM:M:elt02:apsI.OC')"
   ]
  },
  {
   "cell_type": "code",
   "execution_count": 3,
   "metadata": {},
   "outputs": [
    {
     "name": "stdout",
     "output_type": "stream",
     "text": [
      "BM:MO:Atune-ib:ActPos = 1349.924719036458\n",
      "BM:MO:Atune-ob:ActPos = 1310.248705\n",
      "BM:MO:Achi:ActPos = 1188.032168\n",
      "BM:MO:Afocus:ActPos = 3.862573838\n"
     ]
    }
   ],
   "source": [
    "pvs = ['BM:MO:Atune-ib:ActPos',\n",
    "      'BM:MO:Atune-ob:ActPos',\n",
    "      'BM:MO:Achi:ActPos',\n",
    "      'BM:MO:Afocus:ActPos']\n",
    "\n",
    "for pv in pvs:\n",
    "    print('{0} = {1}'.format(pv, caget(pv)))"
   ]
  },
  {
   "cell_type": "code",
   "execution_count": null,
   "metadata": {},
   "outputs": [],
   "source": []
  }
 ],
 "metadata": {
  "kernelspec": {
   "display_name": "Python 3",
   "language": "python",
   "name": "python3"
  },
  "language_info": {
   "codemirror_mode": {
    "name": "ipython",
    "version": 3
   },
   "file_extension": ".py",
   "mimetype": "text/x-python",
   "name": "python",
   "nbconvert_exporter": "python",
   "pygments_lexer": "ipython3",
   "version": "3.7.3"
  }
 },
 "nbformat": 4,
 "nbformat_minor": 4
}
