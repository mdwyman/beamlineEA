{
 "cells": [
  {
   "cell_type": "code",
   "execution_count": null,
   "metadata": {
    "ExecuteTime": {
     "end_time": "2020-01-28T15:03:26.874421Z",
     "start_time": "2020-01-28T15:03:26.599635Z"
    }
   },
   "outputs": [],
   "source": [
    "import numpy as np\n",
    "%matplotlib inline\n",
    "import matplotlib.pyplot as plt\n",
    "import epics as PV\n",
    "from logProgress import log_progress\n",
    "import time\n",
    "import math\n",
    "from IPython.display import display, clear_output"
   ]
  },
  {
   "cell_type": "code",
   "execution_count": null,
   "metadata": {
    "ExecuteTime": {
     "end_time": "2020-01-28T15:03:30.130600Z",
     "start_time": "2020-01-28T15:03:30.050638Z"
    }
   },
   "outputs": [],
   "source": [
    "m1 = PV.PV('wym:m1')"
   ]
  },
  {
   "cell_type": "code",
   "execution_count": null,
   "metadata": {
    "ExecuteTime": {
     "end_time": "2020-01-27T18:11:51.910824Z",
     "start_time": "2020-01-27T18:11:51.884874Z"
    }
   },
   "outputs": [],
   "source": [
    "m1.put(-10)\n",
    "while not m1.put_complete:\n",
    "    print('Moving \\r', end = '')\n",
    "print('Done Moving')"
   ]
  },
  {
   "cell_type": "code",
   "execution_count": null,
   "metadata": {
    "ExecuteTime": {
     "end_time": "2020-01-27T18:11:56.116709Z",
     "start_time": "2020-01-27T18:11:56.103757Z"
    }
   },
   "outputs": [],
   "source": [
    "m1.put_complete"
   ]
  },
  {
   "cell_type": "code",
   "execution_count": null,
   "metadata": {
    "ExecuteTime": {
     "end_time": "2020-01-28T15:03:35.397267Z",
     "start_time": "2020-01-28T15:03:35.376804Z"
    }
   },
   "outputs": [],
   "source": [
    "class gaMotor:\n",
    "    def __init__(self, pvName, scanStart, scanStop, scanStep):\n",
    "        self.pvName = pvName\n",
    "        self.scanStart = scanStart\n",
    "        self.scanStop = scanStop\n",
    "        self.scanStep = scanStep"
   ]
  },
  {
   "cell_type": "markdown",
   "metadata": {},
   "source": [
    "### Define motors\n",
    "\n",
    "Needs to be updated for s19BM"
   ]
  },
  {
   "cell_type": "code",
   "execution_count": null,
   "metadata": {
    "ExecuteTime": {
     "end_time": "2020-01-28T15:03:37.357252Z",
     "start_time": "2020-01-28T15:03:37.341481Z"
    }
   },
   "outputs": [],
   "source": [
    "motors = [gaMotor('wym:m1', -1.0, 1.0, 0.01),\n",
    "         gaMotor('wym:m2', 0.0, 1.0, 0.01),\n",
    "         gaMotor('wym:m3', -2.0, 0.0, 0.01),\n",
    "         gaMotor('wym:m4', -4.0, 5.0, 0.01),\n",
    "         gaMotor('wym:m5', -2.0, 2.0, 0.01),\n",
    "         gaMotor('wym:m6', -3.0, 3.0, 0.01),\n",
    "         gaMotor('wym:m7', 0.0, 2.0, 0.01)]"
   ]
  },
  {
   "cell_type": "code",
   "execution_count": null,
   "metadata": {
    "ExecuteTime": {
     "end_time": "2020-01-27T18:12:23.886957Z",
     "start_time": "2020-01-27T18:12:23.847799Z"
    }
   },
   "outputs": [],
   "source": [
    "PV.caput(motors[0].pvName+'.VAL', 2.0)"
   ]
  },
  {
   "cell_type": "code",
   "execution_count": null,
   "metadata": {
    "ExecuteTime": {
     "end_time": "2020-01-28T15:03:46.524727Z",
     "start_time": "2020-01-28T15:03:46.510044Z"
    }
   },
   "outputs": [],
   "source": [
    "def moveMotors(positions, gaMotor):\n",
    "    for pos, motor in zip(positions, gaMotor):\n",
    "        PV.caput(motor.pvName, pos)    #moves done ~simultaneously, though started sequentially"
   ]
  },
  {
   "cell_type": "code",
   "execution_count": null,
   "metadata": {
    "ExecuteTime": {
     "end_time": "2020-01-28T15:03:47.842000Z",
     "start_time": "2020-01-28T15:03:47.825123Z"
    }
   },
   "outputs": [],
   "source": [
    "def getMotors(gaMotor):\n",
    "    positions = []\n",
    "    for motor in gaMotor:\n",
    "        pos = PV.caget(motor.pvName+'.RBV')\n",
    "        positions.append(pos)\n",
    "    \n",
    "    return np.asarray(positions)"
   ]
  },
  {
   "cell_type": "markdown",
   "metadata": {},
   "source": [
    "### Define genes\n",
    "Based on motors -- each entry in gene list contains an array of all possible values for that gene/motor"
   ]
  },
  {
   "cell_type": "code",
   "execution_count": null,
   "metadata": {
    "ExecuteTime": {
     "end_time": "2020-01-28T15:03:54.360731Z",
     "start_time": "2020-01-28T15:03:54.349966Z"
    }
   },
   "outputs": [],
   "source": [
    "genes = [np.arange(motor.scanStart,motor.scanStop+motor.scanStep,motor.scanStep) for motor in motors]"
   ]
  },
  {
   "cell_type": "markdown",
   "metadata": {},
   "source": [
    "#### Test motor move"
   ]
  },
  {
   "cell_type": "code",
   "execution_count": null,
   "metadata": {
    "ExecuteTime": {
     "end_time": "2020-01-28T15:03:57.635501Z",
     "start_time": "2020-01-28T15:03:57.485263Z"
    }
   },
   "outputs": [],
   "source": [
    "moveMotors(np.asarray([np.random.choice(gene) for gene in genes]), motors)"
   ]
  },
  {
   "cell_type": "markdown",
   "metadata": {},
   "source": [
    "#### Set speed of all motors"
   ]
  },
  {
   "cell_type": "code",
   "execution_count": null,
   "metadata": {
    "ExecuteTime": {
     "end_time": "2020-01-28T15:04:34.207941Z",
     "start_time": "2020-01-28T15:04:34.192213Z"
    }
   },
   "outputs": [],
   "source": [
    "def setMotorV(gaMotors, speed):\n",
    "    speedPVs = ['.S', '.SBAK', '.SBAS']\n",
    "    for motor in gaMotors:\n",
    "        [PV.caput(motor.pvName+sPV,speed) for sPV in speedPVs]"
   ]
  },
  {
   "cell_type": "code",
   "execution_count": null,
   "metadata": {
    "ExecuteTime": {
     "end_time": "2020-01-28T15:04:38.963321Z",
     "start_time": "2020-01-28T15:04:38.398576Z"
    }
   },
   "outputs": [],
   "source": [
    "setMotorV(motors, speed = 0.1)"
   ]
  },
  {
   "cell_type": "markdown",
   "metadata": {},
   "source": [
    "#### Check if motors are still moving"
   ]
  },
  {
   "cell_type": "code",
   "execution_count": null,
   "metadata": {
    "ExecuteTime": {
     "end_time": "2020-01-28T15:04:43.781815Z",
     "start_time": "2020-01-28T15:04:43.760380Z"
    }
   },
   "outputs": [],
   "source": [
    "def stillMoving(gaMotors):\n",
    "    # DMOV = 0 while moving\n",
    "    # DMOV = 1 when move complete\n",
    "    status = [bool(PV.caget(motor.pvName+'.DMOV')) for motor in gaMotors]\n",
    "    \n",
    "    moving = not all(status)\n",
    "    \n",
    "    return moving\n",
    "    "
   ]
  },
  {
   "cell_type": "code",
   "execution_count": null,
   "metadata": {
    "ExecuteTime": {
     "end_time": "2020-01-28T15:04:44.616342Z",
     "start_time": "2020-01-28T15:04:44.415748Z"
    }
   },
   "outputs": [],
   "source": [
    "stillMoving(motors)"
   ]
  },
  {
   "cell_type": "code",
   "execution_count": null,
   "metadata": {
    "ExecuteTime": {
     "end_time": "2020-01-28T15:05:09.267387Z",
     "start_time": "2020-01-28T15:04:51.446273Z"
    }
   },
   "outputs": [],
   "source": [
    "moveMotors(np.asarray([np.random.choice(gene) for gene in genes]), motors)\n",
    "while stillMoving(motors):\n",
    "    print(\"Still Moving \\r\", end = '')\n",
    "print(\"Done Moving \")"
   ]
  },
  {
   "cell_type": "markdown",
   "metadata": {},
   "source": [
    "### Initialize population"
   ]
  },
  {
   "cell_type": "code",
   "execution_count": null,
   "metadata": {
    "ExecuteTime": {
     "end_time": "2020-01-28T15:05:20.573284Z",
     "start_time": "2020-01-28T15:05:20.558311Z"
    }
   },
   "outputs": [],
   "source": [
    "def init_pop(nPopulation, genes, seed = 42):\n",
    "    population = []\n",
    "    np.random.seed(seed)\n",
    "    for i in range(nPopulation):\n",
    "        population.append(np.asarray([np.random.choice(gene) for gene in genes]))\n",
    "        \n",
    "    return population"
   ]
  },
  {
   "cell_type": "markdown",
   "metadata": {},
   "source": [
    "### Fitness function\n",
    "Needs to be updated for s19BM"
   ]
  },
  {
   "cell_type": "code",
   "execution_count": null,
   "metadata": {},
   "outputs": [],
   "source": [
    "diagnosticPV = 'wym:userCalc3.VAL'\n",
    "\n",
    "def fitness():\n",
    "\n",
    "    fit = PV.caget(diagnosticPV)\n",
    "    \n",
    "    return fit"
   ]
  },
  {
   "cell_type": "code",
   "execution_count": null,
   "metadata": {
    "ExecuteTime": {
     "end_time": "2020-01-28T15:05:32.542064Z",
     "start_time": "2020-01-28T15:05:32.500256Z"
    }
   },
   "outputs": [],
   "source": [
    "def get_fitness(pop, motors, diagPV = diagnosticPV, OM = False, minFit = 0):\n",
    "    fitness = []\n",
    "    act_popN = 0\n",
    "    oldFit = -1\n",
    "    for j, p in enumerate(pop):\n",
    "        if OM:\n",
    "            tempFit = minFit\n",
    "            rePop = False\n",
    "        moveMotors(p, motors)\n",
    "        while stillMoving(motors):          \n",
    "            if OM:\n",
    "                currP = getMotors(motors)\n",
    "                currFit = fitness()\n",
    "                if oldFit != tempFit:\n",
    "                    act_popN += 1\n",
    "                    oldFit = tempFit\n",
    "                if currFit > tempFit:\n",
    "                    tempP = currP\n",
    "                    tempFit = currFit\n",
    "                    rePop = True\n",
    "                    \n",
    "        if OM and rePop:\n",
    "            if tempFit > finalFit:\n",
    "                finalFit = tempFit\n",
    "                pop[j] = tempP\n",
    "            else:\n",
    "                finalFit = fitness()\n",
    "        fitness.append(finalFit)\n",
    "\n",
    "    return pop, fitness, act_popN"
   ]
  },
  {
   "cell_type": "markdown",
   "metadata": {},
   "source": [
    "### Test fitness function for population"
   ]
  },
  {
   "cell_type": "code",
   "execution_count": null,
   "metadata": {
    "ExecuteTime": {
     "end_time": "2020-01-28T15:08:20.667142Z",
     "start_time": "2020-01-28T15:05:42.130109Z"
    }
   },
   "outputs": [],
   "source": [
    "testPop = init_pop(10, genes)\n",
    "print('Initial Population:')\n",
    "for p in testPop:\n",
    "    print(p)\n",
    "_, testFitness, _ = get_fitness(testPop, motors, OM = False)\n",
    "print('test Fitness')\n",
    "print(testFitness)"
   ]
  },
  {
   "cell_type": "markdown",
   "metadata": {},
   "source": [
    "### Test fitness function for population with Observer mode"
   ]
  },
  {
   "cell_type": "code",
   "execution_count": null,
   "metadata": {
    "ExecuteTime": {
     "end_time": "2020-01-28T15:08:20.667142Z",
     "start_time": "2020-01-28T15:05:42.130109Z"
    },
    "scrolled": true
   },
   "outputs": [],
   "source": [
    "newPop, newFitness, _ = get_fitness(testPop, motors, OM = True)\n",
    "print('New Population:')\n",
    "for p in newPop:\n",
    "    print(p)\n",
    "print('New Fitness:')\n",
    "print(newFitness)"
   ]
  },
  {
   "cell_type": "markdown",
   "metadata": {},
   "source": [
    "### Ranking by fitness"
   ]
  },
  {
   "cell_type": "code",
   "execution_count": null,
   "metadata": {
    "ExecuteTime": {
     "end_time": "2020-01-28T15:08:43.633114Z",
     "start_time": "2020-01-28T15:08:43.628848Z"
    }
   },
   "outputs": [],
   "source": [
    "def rank_pop(fitness):\n",
    "    return np.argsort(fitness)"
   ]
  },
  {
   "cell_type": "markdown",
   "metadata": {},
   "source": [
    "### Select Mating Pool"
   ]
  },
  {
   "cell_type": "code",
   "execution_count": null,
   "metadata": {
    "ExecuteTime": {
     "end_time": "2020-01-28T15:08:45.335787Z",
     "start_time": "2020-01-28T15:08:45.324054Z"
    }
   },
   "outputs": [],
   "source": [
    "def mating_pool_probs(fitness):\n",
    "    return [fit/sum(fitness) for fit in fitness]"
   ]
  },
  {
   "cell_type": "code",
   "execution_count": null,
   "metadata": {
    "ExecuteTime": {
     "end_time": "2020-01-28T15:08:46.314731Z",
     "start_time": "2020-01-28T15:08:46.289983Z"
    }
   },
   "outputs": [],
   "source": [
    "def get_mating_pool(population, rankings, probs, nElites, nPopulation):\n",
    "    rankedProbs = [probs[i] for i in rankings]\n",
    "    \n",
    "    #include elites\n",
    "    #remainder based on probabilities from fitness_i/sum(fitness_i)\n",
    "    breedingPop = []\n",
    "    breedingPop[0:nElites] = rankings[::-1][0:nElites]\n",
    "    breedingPop[nElites:nPopulation-nElites] = np.random.choice(rankings, size = nPopulation-nElites, p = rankedProbs)\n",
    "    \n",
    "    return breedingPop"
   ]
  },
  {
   "cell_type": "markdown",
   "metadata": {},
   "source": [
    "### Breed (crossover)"
   ]
  },
  {
   "cell_type": "code",
   "execution_count": null,
   "metadata": {
    "ExecuteTime": {
     "end_time": "2020-01-28T15:08:48.057542Z",
     "start_time": "2020-01-28T15:08:48.011185Z"
    }
   },
   "outputs": [],
   "source": [
    "def get_offspring(nGenes, nPopulation, population, breedingPop, Pc):\n",
    "    #iterate through pairs i, i+1 (N/2 times) and if P < Pc swap genes 1 through randomly choose of 2,..,N-1)\n",
    "    offspring = []\n",
    "    for i in range(int(nPopulation/2)):\n",
    "        parent1 = np.copy(population[breedingPop[2*i]])\n",
    "        parent2 = np.copy(population[breedingPop[2*i+1]])\n",
    "        \n",
    "        child1 = np.copy(parent1)\n",
    "        child2 = np.copy(parent2)\n",
    "        if np.random.random() < Pc:\n",
    "            crossover = np.random.choice(nGenes-1) + 1\n",
    "            child1[crossover:]=parent2[crossover:]\n",
    "            child2[crossover:]=parent1[crossover:]\n",
    "        offspring.append(child1)\n",
    "        offspring.append(child2)\n",
    "    return offspring"
   ]
  },
  {
   "cell_type": "markdown",
   "metadata": {},
   "source": [
    "### Mutate"
   ]
  },
  {
   "cell_type": "code",
   "execution_count": null,
   "metadata": {
    "ExecuteTime": {
     "end_time": "2020-01-28T15:08:49.697701Z",
     "start_time": "2020-01-28T15:08:49.674823Z"
    }
   },
   "outputs": [],
   "source": [
    "def mutate_pop(pop, Pm, genes):\n",
    "    #iterate through all genes on all chromosomes, if P < Pm pick randomly from gene's interval\n",
    "    mutatedOffspring = np.copy(pop)\n",
    "    for i, ind in enumerate(pop):\n",
    "        for j, gene in enumerate(ind):\n",
    "            if np.random.random() < Pm:\n",
    "                mutatedOffspring[i][j] = np.random.choice(genes[j])\n",
    "            \n",
    "    \n",
    "    return mutatedOffspring"
   ]
  },
  {
   "cell_type": "markdown",
   "metadata": {},
   "source": [
    "### Put together"
   ]
  },
  {
   "cell_type": "code",
   "execution_count": null,
   "metadata": {
    "ExecuteTime": {
     "end_time": "2020-01-28T15:08:52.617818Z",
     "start_time": "2020-01-28T15:08:52.382277Z"
    }
   },
   "outputs": [],
   "source": [
    "def gaScan(motors, nPopulation = 10, Pc = 0.8, Pm = 0.05, nGenerations = 100, nElite = 5\n",
    "           , OM = True, critVal = 1.0, seed = 42):\n",
    "    print('Observer Mode: {}'.format(OM))\n",
    "    startTime = time.time()\n",
    "    genes = [np.arange(motor.scanStart,motor.scanStop+motor.scanStep,motor.scanStep) for motor in motors]\n",
    "    nGenes = len(genes)\n",
    "    pop = init_pop(nPopulation, genes, seed)\n",
    "    peakFit = []\n",
    "    aveFit = []\n",
    "    \n",
    "    fig = plt.figure(figsize = (8,5))\n",
    "    ax = fig.add_subplot(1, 1, 1) \n",
    "    #ax = fig.add_subplot(2, 1, 1) \n",
    "    #bx = fig.add_subplot(2, 1, 2)\n",
    "    \n",
    "    sampledN = 0\n",
    "    \n",
    "    #for i in log_progress(range(nGenerations), name = \"Generations\"):\n",
    "    for i in range(nGenerations):\n",
    "        pop, popFitness, popN = get_fitness(pop, motors, OM = (OM and (i > 0)))\n",
    "        peakFit.append(max(popFitness))\n",
    "        aveFit.append(np.mean(popFitness))\n",
    "        \n",
    "        sampledN += popN\n",
    "        \n",
    "        if peakFit[-1] < critVal:\n",
    "            print('Current Peak Fitness: {}; Goal Value: {} \\r'.format(peakFit[-1], critVal), end = '')\n",
    "            rankings = rank_pop(popFitness) # list of indexes\n",
    "            probs = mating_pool_probs(popFitness)\n",
    "        \n",
    "            breedingPop = get_mating_pool(pop, rankings, probs, nElite, nPopulation)\n",
    "            offspring = get_offspring(nGenes, nPopulation, pop, breedingPop, Pc)\n",
    "            pop = mutate_pop(offspring, Pm, genes)\n",
    "        else:\n",
    "            print('Final Peak Fitness: {}'.format(peakFit[-1]))\n",
    "            print('Minimum fitness criteria met')\n",
    "            moveMotors(pop[np.argmax(popFitness)], motors)\n",
    "    \n",
    "        \n",
    "        ax.cla()\n",
    "        \n",
    "        line1, = ax.plot(peakFit, color = 'r', label = 'Peak Fitness')\n",
    "        line2, = ax.plot(aveFit, color = 'b', label = 'Ave Fitness')\n",
    "        ax.legend(loc='lower right')\n",
    "        ax.set_title('Population = {}, Elites = {}, Pc = {}, Pm = {}, OM = {}'.format(nPopulation, \n",
    "                                                                                      nElites, Pc, Pm, OM))\n",
    "        ax.set_xlabel('Generation')\n",
    "        ax.set_ylabel('Fitness')\n",
    "        ax.set_ylim([0,1])\n",
    "        \n",
    "        display(fig)\n",
    "        clear_output(wait = True)\n",
    "    \n",
    "        if peakFit[-1] >= critVal:\n",
    "            break\n",
    "            \n",
    "    print(' ')\n",
    "#    pop, finalFitness = get_fitness(pop, motors, OM = False)\n",
    "#    peakFit.append(max(finalFitness))\n",
    "#    aveFit.append(np.mean(finalFitness))\n",
    "\n",
    "#    ax.cla()\n",
    "        \n",
    "#    line1, = ax.plot(peakFit, color = 'r', label = 'Peak Fitness')\n",
    "#    line2, = ax.plot(aveFit, color = 'b', label = 'Ave Fitness')\n",
    "#    ax.legend(loc='lower right')\n",
    "#    ax.set_title('Population = {}, Elites = {}, Pc = {}, Pm = {}, OM = {}'.format(nPopulation, \n",
    "#                                                                                     nElites, Pc, Pm, OM))\n",
    "#    ax.set_xlabel('Generation')\n",
    "#    ax.set_ylabel('Fitness')\n",
    "#    ax.set_ylim([0,1.0])\n",
    "    \n",
    "#    display(fig)\n",
    "#    clear_output(wait = True)\n",
    "    \n",
    "    endTime = time.time()\n",
    "    print('Total processing time {} s'.format(math.floor(endTime-startTime)))\n",
    "    \n",
    "#    fig, ax = plt.subplots()\n",
    "#    line1, = ax.plot(peakFit, color = 'r', label = 'Peak Fitness')\n",
    "#    line2, = ax.plot(aveFit, color = 'b', label = 'Ave Fitness')\n",
    "#    ax.legend(loc='lower right')\n",
    "#    ax.set_title('Population = {}, Elites = {}, Pc = {}, Pm = {}, OM = {}'.format(nPopulation, nElites, \n",
    "#                                                                                  Pc, Pm, OM))\n",
    "#    ax.set_xlabel('Generation')\n",
    "#    ax.set_ylabel('Fitness')\n",
    "#    plt.show\n",
    "    \n",
    "    return aveFit, peakFit, sampledN\n",
    "          \n",
    "    \n",
    "    "
   ]
  },
  {
   "cell_type": "code",
   "execution_count": null,
   "metadata": {
    "ExecuteTime": {
     "end_time": "2020-01-28T15:08:54.411535Z",
     "start_time": "2020-01-28T15:08:54.396028Z"
    }
   },
   "outputs": [],
   "source": [
    "init_pos = [-1, 0, -2, -4, -2, -3, 0]\n",
    "seed = 2"
   ]
  },
  {
   "cell_type": "code",
   "execution_count": null,
   "metadata": {
    "ExecuteTime": {
     "end_time": "2020-01-28T15:08:55.421339Z",
     "start_time": "2020-01-28T15:08:55.403332Z"
    }
   },
   "outputs": [],
   "source": [
    "moveMotors(init_pos, motors)"
   ]
  },
  {
   "cell_type": "code",
   "execution_count": null,
   "metadata": {
    "ExecuteTime": {
     "end_time": "2020-01-28T16:14:59.635566Z",
     "start_time": "2020-01-28T16:09:13.353383Z"
    }
   },
   "outputs": [],
   "source": [
    "moveMotors(init_pos, motors)\n",
    "\n",
    "nPop = 10\n",
    "Pc = 0.8\n",
    "Pm = 0.05\n",
    "nElites = 2\n",
    "nGen = 100\n",
    "setMotorV(motors, speed = 2.0)\n",
    "\n",
    "aveFit, peakFit, sampledN = gaScan(motors, nPopulation = nPop, Pc = Pc, Pm = Pm, nGenerations = nGen\n",
    "                                   , nElite = nElites, OM = False, critVal = 0.90, seed = seed)\n",
    "\n"
   ]
  },
  {
   "cell_type": "code",
   "execution_count": null,
   "metadata": {
    "ExecuteTime": {
     "end_time": "2020-01-28T15:18:30.117460Z",
     "start_time": "2020-01-28T15:18:30.105163Z"
    }
   },
   "outputs": [],
   "source": [
    "peakFit[-1]"
   ]
  },
  {
   "cell_type": "code",
   "execution_count": null,
   "metadata": {},
   "outputs": [],
   "source": []
  }
 ],
 "metadata": {
  "kernelspec": {
   "display_name": "Python 3",
   "language": "python",
   "name": "python3"
  },
  "language_info": {
   "codemirror_mode": {
    "name": "ipython",
    "version": 3
   },
   "file_extension": ".py",
   "mimetype": "text/x-python",
   "name": "python",
   "nbconvert_exporter": "python",
   "pygments_lexer": "ipython3",
   "version": "3.6.8"
  }
 },
 "nbformat": 4,
 "nbformat_minor": 2
}
